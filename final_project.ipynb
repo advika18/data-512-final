{
 "cells": [
  {
   "cell_type": "markdown",
   "metadata": {},
   "source": [
    "# DATA 512 Final Project\n",
    "\n",
    "## Motivation\n",
    "\n",
    "In the US, the tensions between the public and the police force have been escalating in recent times. Studies and articles give strong evidence of systemic racism [[1]]( https://edition.cnn.com/2019/03/21/us/police-stops-race-stanford-study-trnd/index.html) [[2]](https://www.themarshallproject.org/2016/06/21/are-traffic-stops-prone-to-racial-bias). This analysis hopes to shed some light on the interactions between the public and the cops through data on 'police stops'. The study investigates if there is any evidence of bias against a certain ethnicity or gender?\n",
    "\n",
    "## Data\n",
    "\n",
    "The data is obtained throught the [Stanford Open Policing Project](https://openpolicing.stanford.edu/). The data (>200 million records) contains separate csv files for numerous cities and towns across the US. Each row contains data about a police stop, such as the date, purpose of stop, outcome, subject related attributes (like race, age, gender), vehicle type and optionally (only some of the files) location coordinates. Specific information about the files can be found [here](https://github.com/stanford-policylab/opp/blob/master/data_readme.md).\n",
    "\n",
    "The data is publicly available for download [here](https://openpolicing.stanford.edu/data/) under the [Open Data Commons Attribution License](https://opendatacommons.org/licenses/by/summary/)\n",
    "\n",
    "Note: Larger number of stops for a particular community need not point to bias immediately as they could be genuinely stops. For instance, teenagers may be stopped more frequently because they are infact driving at faster speeds. This analysis aims to identify bias while keeping in mind such constraints."
   ]
  },
  {
   "cell_type": "markdown",
   "metadata": {},
   "source": [
    "## Unknowns\n",
    "\n",
    "The entire dataset is too large and might pose a problem for storage and processing on a local machine. It might be sufficient to limit the analysis to only a few states or cities depending on the time constraints and the depth of the analysis performed. "
   ]
  },
  {
   "cell_type": "markdown",
   "metadata": {},
   "source": [
    "## Research Questions\n",
    "\n",
    "<b> 1) Are some communities more likely to be stopped during police searches? <br>\n",
    "2) Is there a gender imbalance in the stop rates? <br>\n",
    "3) Is there an age imbalance in the stop rates? <br>\n",
    "4) Cops in which states show the highest evidence of racial or gender bias? <br>\n",
    "5) How does the time of the day/seasonal variations/day of the week impact search/stop rate? <br>\n"
   ]
  },
  {
   "cell_type": "markdown",
   "metadata": {},
   "source": [
    "## Background/Related Work\n",
    "\n",
    "Over 50,000 Americans are stopped by the police everyday [1]. The [Stanford Open Policing Project] (https://openpolicing.stanford.edu/) was thus started to create a nation-wide comprehensive repository of police and public interactions. The project has successfully used the data to explore questions such as \"Are police stops biased towards a particular community?\", \"Did legalizing Marijuana cause a drop in search rates?\".\n",
    "\n",
    "The analysis reveals that black and hispanic communities are the victims of racial bias in police stops. \n"
   ]
  },
  {
   "cell_type": "markdown",
   "metadata": {},
   "source": [
    "## Methodology\n"
   ]
  },
  {
   "cell_type": "markdown",
   "metadata": {},
   "source": [
    "## References\n",
    "[1] https://edition.cnn.com/2019/03/21/us/police-stops-race-stanford-study-trnd/index.html <br>\n",
    "[2] https://www.themarshallproject.org/2016/06/21/are-traffic-stops-prone-to-racial-bias"
   ]
  },
  {
   "cell_type": "code",
   "execution_count": null,
   "metadata": {},
   "outputs": [],
   "source": []
  }
 ],
 "metadata": {
  "kernelspec": {
   "display_name": "Python 3",
   "language": "python",
   "name": "python3"
  },
  "language_info": {
   "codemirror_mode": {
    "name": "ipython",
    "version": 3
   },
   "file_extension": ".py",
   "mimetype": "text/x-python",
   "name": "python",
   "nbconvert_exporter": "python",
   "pygments_lexer": "ipython3",
   "version": "3.6.10"
  }
 },
 "nbformat": 4,
 "nbformat_minor": 4
}
