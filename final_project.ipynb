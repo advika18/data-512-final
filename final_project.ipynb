{
 "cells": [
  {
   "cell_type": "markdown",
   "metadata": {},
   "source": [
    "# DATA 512 Final Project\n",
    "\n",
    "## Motivation\n",
    "\n",
    "In the US, the tensions between the public and the police force have been escalating in recent times. Studies and articles give strong evidence of systemic racism [[1]]( https://edition.cnn.com/2019/03/21/us/police-stops-race-stanford-study-trnd/index.html) [[2]](https://www.themarshallproject.org/2016/06/21/are-traffic-stops-prone-to-racial-bias). This analysis hopes to shed some light on the interactions between the public and the cops through data on 'police stops'. The study investigates if there is any evidence of bias against a certain ethnicity or gender?\n",
    "The aim of the analysis is to identify any systemic bias that might exist in the police force to provide lawmakers and media the required background to make a fairer society.\n",
    "\n",
    "## Data\n",
    "\n",
    "The data is obtained throught the [Stanford Open Policing Project](https://openpolicing.stanford.edu/). The data (>200 million records) contains separate csv files for numerous cities and towns across the US. Each row contains data about a police stop, such as the date, purpose of stop, outcome, subject related attributes (like race, age, gender), vehicle type and optionally (only some of the files) location coordinates. Specific information about the files can be found [here](https://github.com/stanford-policylab/opp/blob/master/data_readme.md).\n",
    "\n",
    "The data is publicly available for download [here](https://openpolicing.stanford.edu/data/) under the [Open Data Commons Attribution License](https://opendatacommons.org/licenses/by/summary/)\n",
    "\n",
    "Note: Larger number of stops for a particular community need not point to bias immediately as they could be genuinely stops. For instance, teenagers may be stopped more frequently because they are infact driving at faster speeds. This analysis aims to identify bias while keeping in mind such constraints."
   ]
  },
  {
   "cell_type": "markdown",
   "metadata": {},
   "source": [
    "## Unknowns\n",
    "\n",
    "The entire dataset is too large and might pose a problem for storage and processing on a local machine. It might be sufficient to limit the analysis to only a few states or cities depending on the time constraints and the depth of the analysis performed. "
   ]
  },
  {
   "cell_type": "markdown",
   "metadata": {},
   "source": [
    "## Research Questions\n",
    "<b> \n",
    "1) How are the stop rates distributed across races, genders, age bands? <br> </b>\n",
    "    In particular, are some groups more likely to be stopped? Explore further by breaking down this distribution in   some states/cities <br>\n",
    "<b>    \n",
    "2) Are stop rates impacted by the time of the day and/or day of the week?\n",
    "</b> <br> It would be interesting to answer questions like, \"In New York, are stop rates highest on a Saturday and what is most common cause of a stop?\" <br> \n",
    "\n",
    "<b> 3) What is the distribution of search rates (among the stopped vehicles) for different races? </b> <br>\n",
    "I hypothesize that black and hispanice drivers will have higher search rates than white drivers."
   ]
  },
  {
   "cell_type": "markdown",
   "metadata": {},
   "source": [
    "## Background/Related Work\n",
    "\n",
    "Over 50,000 Americans are stopped by the police everyday [1]. The [Stanford Open Policing Project](https://openpolicing.stanford.edu/) was thus started to create a nation-wide comprehensive repository of police and public interactions. The project has successfully used the data to explore questions such as \"Are police stops biased towards a particular community?\", \"Did legalizing Marijuana cause a drop in search rates?\".\n",
    "\n",
    "The analysis reveals that black and hispanic communities are the victims of racial bias in police stops. A recent [paper](https://www.nature.com/articles/s41562-020-0858-1) provides information about the methods employed.\n"
   ]
  },
  {
   "cell_type": "markdown",
   "metadata": {},
   "source": [
    "## Methodology\n",
    "\n",
    "The downloaded data will be assessed for completeness of demographic information and coordinate availability to identify 3-4 states/cities that will be used for this analysis. The study will utilize map visualizations to present the differences across states/cities. \n",
    "\n",
    "Joins, filters, and group bys will be used to explore and extract relevant aggregates from the dataset. External data about population distributions will be combined with the data to understand relative search rates compared to the population distribution in a state for an accurate understanding of bias.\n"
   ]
  },
  {
   "cell_type": "markdown",
   "metadata": {},
   "source": [
    "## References\n",
    "[1] https://edition.cnn.com/2019/03/21/us/police-stops-race-stanford-study-trnd/index.html <br>\n",
    "[2] https://www.themarshallproject.org/2016/06/21/are-traffic-stops-prone-to-racial-bias"
   ]
  },
  {
   "cell_type": "code",
   "execution_count": null,
   "metadata": {},
   "outputs": [],
   "source": []
  }
 ],
 "metadata": {
  "kernelspec": {
   "display_name": "Python 3",
   "language": "python",
   "name": "python3"
  },
  "language_info": {
   "codemirror_mode": {
    "name": "ipython",
    "version": 3
   },
   "file_extension": ".py",
   "mimetype": "text/x-python",
   "name": "python",
   "nbconvert_exporter": "python",
   "pygments_lexer": "ipython3",
   "version": "3.6.10"
  }
 },
 "nbformat": 4,
 "nbformat_minor": 4
}
